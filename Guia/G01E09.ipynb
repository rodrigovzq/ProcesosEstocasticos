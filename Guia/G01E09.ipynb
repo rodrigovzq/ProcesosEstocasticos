{
 "cells": [
  {
   "cell_type": "markdown",
   "metadata": {},
   "source": [
    "# Ejercicio 9\n",
    "Analice las siguientes matrices e identifique si pueden ser o no matrices de covarianza asociadas a algun vector aleatorio:\n",
    "$$\n",
    "M_1 = \\begin{bmatrix}\n",
    "        2 & -4 & 0 \\\\\n",
    "        -4 & -3 & 1 \\\\\n",
    "        0 & 1 & 2\n",
    "      \\end{bmatrix}\n",
    "\\\n",
    "M_2 = \\begin{bmatrix}\n",
    "        4 & -6 & 2 \\\\\n",
    "        -6 & 9 & 3 \\\\\n",
    "        8 & 12 & 16\n",
    "        \\end{bmatrix}\n",
    "\\\n",
    "M_3 = \\begin{bmatrix}\n",
    "        1,3201 & 0 & -1,4892 \\\\\n",
    "        0 & 2 & 0 \\\\\n",
    "        -1,4892 & 0 & 1,6799\n",
    "        \\end{bmatrix}\n",
    "$$"
   ]
  },
  {
   "cell_type": "code",
   "execution_count": 1,
   "metadata": {},
   "outputs": [],
   "source": [
    "import numpy as np\n",
    "import scipy as sp\n",
    "import math as m\n"
   ]
  },
  {
   "cell_type": "code",
   "execution_count": 54,
   "metadata": {},
   "outputs": [],
   "source": [
    "# Defino Matrices\n",
    "\n",
    "M1 = np.array([[2,-4,0],\n",
    "     [-4,-3,1],\n",
    "     [0,1,2]])\n",
    "M2 = np.array([[4,-6,2],\n",
    "     [-6,9,3],\n",
    "     [8,12,16]])\n",
    "M3 = np.array([[1.3201,0,-1.4892],\n",
    "     [0,2,0],\n",
    "     [-1.4892 ,0 ,1.6799]],dtype=float)"
   ]
  },
  {
   "cell_type": "code",
   "execution_count": 57,
   "metadata": {},
   "outputs": [],
   "source": [
    "\n",
    "def es_covarianza(A):\n",
    "    if np.all(A - np.matrix.transpose(A) ==0): # verifico simetria\n",
    "        aval, avec = np.linalg.eig(A)   # calculo autovalores\n",
    "        if np.all(aval>0):  # verifico que todos los autovalores sean positivos\n",
    "            return \"es matriz de covariaza\"\n",
    "        else:\n",
    "            return \"no es definida positiva\"\n",
    "    else:\n",
    "        return \"no es simetrica\"\n",
    "\n",
    "    \n"
   ]
  },
  {
   "cell_type": "code",
   "execution_count": 58,
   "metadata": {},
   "outputs": [
    {
     "name": "stdout",
     "output_type": "stream",
     "text": [
      "M1 no es definida positiva\n",
      "M2 no es simetrica\n",
      "M3 no es definida positiva\n"
     ]
    }
   ],
   "source": [
    "print(\"M1\",es_covarianza(M1))\n",
    "print(\"M2\",es_covarianza(M2))\n",
    "print(\"M3\",es_covarianza(M3))"
   ]
  }
 ],
 "metadata": {
  "kernelspec": {
   "display_name": "Python 3",
   "language": "python",
   "name": "python3"
  },
  "language_info": {
   "codemirror_mode": {
    "name": "ipython",
    "version": 3
   },
   "file_extension": ".py",
   "mimetype": "text/x-python",
   "name": "python",
   "nbconvert_exporter": "python",
   "pygments_lexer": "ipython3",
   "version": "3.6.6+"
  }
 },
 "nbformat": 4,
 "nbformat_minor": 2
}
